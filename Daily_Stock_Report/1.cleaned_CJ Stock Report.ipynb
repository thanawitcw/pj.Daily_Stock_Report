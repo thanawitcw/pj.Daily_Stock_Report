{
 "cells": [
  {
   "cell_type": "code",
   "execution_count": 1,
   "metadata": {},
   "outputs": [
    {
     "name": "stdout",
     "output_type": "stream",
     "text": [
      "Loading the latest CJ Stock File: T:\\SCM Data\\Data For Stock\\DC_Store\\Sahamit Report 26-05-2025.xlsx\n",
      "Column 'Product' has been renamed to 'CJ_Item'\n",
      "Filter Division >> ['A-HOME', 'UNO'] out of master file\n",
      "Loading product list to exclude from this file\n"
     ]
    },
    {
     "name": "stderr",
     "output_type": "stream",
     "text": [
      "C:\\Users\\Thanawit C\\AppData\\Local\\Temp\\ipykernel_18276\\3934501441.py:63: SettingWithCopyWarning: \n",
      "A value is trying to be set on a copy of a slice from a DataFrame\n",
      "\n",
      "See the caveats in the documentation: https://pandas.pydata.org/pandas-docs/stable/user_guide/indexing.html#returning-a-view-versus-a-copy\n",
      "  master_df.drop(MERGE_INDICATOR_COLUMN, axis=1, inplace=True)\n"
     ]
    },
    {
     "name": "stdout",
     "output_type": "stream",
     "text": [
      "CJ stock report has been saved to: D:\\Data for Stock Report\\cleaned_CJ_Stock_Report.xlsx\n"
     ]
    }
   ],
   "source": [
    "import os\n",
    "import pandas as pd\n",
    "from datetime import datetime\n",
    "\n",
    "# Define constants for file prefixes, extensions, and sheet names\n",
    "MASTER_FILE_PREFIX = 'Sahamit Report '\n",
    "MASTER_FILE_EXTENSION = '.xlsx'\n",
    "SAHAMIT_SHEET_NAME = 'Sahamit Report'\n",
    "EXCLUDE_SHEET_NAME = 'Exclude'\n",
    "CLEANED_SHEET_NAME = 'CJ Stock'\n",
    "PRODUCT_COLUMN = 'Product'\n",
    "MERGE_INDICATOR_COLUMN = '_from-merged'\n",
    "\n",
    "# Define file paths as variables\n",
    "EXCLUDE_CJ_ITEM_PATH = r'D:\\Data for Stock Report\\Exclude CJ_Item.xlsx'\n",
    "SOURCE_DIRECTORY = r'T:\\SCM Data\\Data For Stock\\DC_Store'\n",
    "DESTINATION_DIRECTORY = r'D:\\Data for Stock Report'\n",
    "\n",
    "\n",
    "def get_latest_master_file(directory, file_prefix, file_extension):\n",
    "    master_files = [f for f in os.listdir(directory) if f.startswith(file_prefix) and f.endswith(file_extension)]\n",
    "    dates = []\n",
    "    for file in master_files:\n",
    "        try:\n",
    "            date_str = file.replace(file_prefix, '').replace(file_extension, '').strip()\n",
    "            date_obj = datetime.strptime(date_str, '%d-%m-%Y')\n",
    "            dates.append((file, date_obj))\n",
    "        except ValueError:\n",
    "            continue\n",
    "\n",
    "    if dates:\n",
    "        latest_file = max(dates, key=lambda x: x[1])[0]\n",
    "        return os.path.join(directory, latest_file)\n",
    "    else:\n",
    "        return None\n",
    "\n",
    "\n",
    "def clean_master_file(source_directory, destination_directory):\n",
    "    latest_file_path = get_latest_master_file(source_directory, MASTER_FILE_PREFIX, MASTER_FILE_EXTENSION)\n",
    "\n",
    "    if latest_file_path:\n",
    "        print(f\"Loading the latest CJ Stock File: {latest_file_path}\")\n",
    "        master_df = pd.read_excel(latest_file_path, sheet_name=SAHAMIT_SHEET_NAME, header=2)\n",
    "\n",
    "        # Rename 'Product' column to 'CJ_Item'\n",
    "        if PRODUCT_COLUMN in master_df.columns:\n",
    "            master_df.rename(columns={'Product': 'CJ_Item'}, inplace=True)\n",
    "            print(\"Column 'Product' has been renamed to 'CJ_Item'\")\n",
    "        else:\n",
    "            print(f\"Column '{PRODUCT_COLUMN}' not found in the DataFrame\")\n",
    "\n",
    "        # Filter out data for 'A-HOME' and 'UNO' divisions\n",
    "        filter_master_file = ['A-HOME', 'UNO']\n",
    "        master_df = master_df[~master_df['Division'].isin(filter_master_file)]\n",
    "        print(f\"Filter Division >> {filter_master_file} out of master file\")\n",
    "\n",
    "        # Exclude CJ_Items from a specific Excel file\n",
    "        print(\"Loading product list to exclude from this file\")\n",
    "        exclude_df = pd.read_excel(EXCLUDE_CJ_ITEM_PATH, sheet_name=EXCLUDE_SHEET_NAME)\n",
    "\n",
    "        merged_df = master_df.merge(exclude_df, on='CJ_Item', how='left', indicator=MERGE_INDICATOR_COLUMN)\n",
    "        master_df = merged_df[merged_df[MERGE_INDICATOR_COLUMN] != 'both']\n",
    "        master_df.drop(MERGE_INDICATOR_COLUMN, axis=1, inplace=True)\n",
    "\n",
    "        # Save the cleaned DataFrame to a new Excel file\n",
    "        cleaned_file_path = os.path.join(destination_directory, 'cleaned_CJ_Stock_Report.xlsx')\n",
    "        master_df.to_excel(cleaned_file_path, sheet_name=CLEANED_SHEET_NAME, index=False)\n",
    "        print(f\"CJ stock report has been saved to: {cleaned_file_path}\")\n",
    "\n",
    "        return master_df\n",
    "    else:\n",
    "        print(\"Not Found File Stock by CJ.\")\n",
    "        return None\n",
    "\n",
    "\n",
    "def main():\n",
    "    clean_master_file(SOURCE_DIRECTORY, DESTINATION_DIRECTORY)\n",
    "\n",
    "\n",
    "if __name__ == \"__main__\":\n",
    "    main()"
   ]
  },
  {
   "cell_type": "code",
   "execution_count": null,
   "metadata": {},
   "outputs": [],
   "source": []
  }
 ],
 "metadata": {
  "kernelspec": {
   "display_name": "Python 3",
   "language": "python",
   "name": "python3"
  },
  "language_info": {
   "codemirror_mode": {
    "name": "ipython",
    "version": 3
   },
   "file_extension": ".py",
   "mimetype": "text/x-python",
   "name": "python",
   "nbconvert_exporter": "python",
   "pygments_lexer": "ipython3",
   "version": "3.12.6"
  }
 },
 "nbformat": 4,
 "nbformat_minor": 2
}
