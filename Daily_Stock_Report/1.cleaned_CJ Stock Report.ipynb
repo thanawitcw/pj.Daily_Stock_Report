{
 "cells": [
  {
   "cell_type": "code",
   "execution_count": 1,
   "metadata": {},
   "outputs": [
    {
     "name": "stdout",
     "output_type": "stream",
     "text": [
      "Loading the latest CJ Stock File: T:\\SCM Data\\Data For Stock\\DC_Store\\Sahamit Report 24-03-2025.xlsx\n",
      "Column 'Product' has been renamed to 'CJ_Item'\n",
      "Filter Division >> ['A-HOME', 'UNO'] out of master file\n",
      "Loading product list from Company Code: 101318 and 401155 to exclude from this file\n"
     ]
    },
    {
     "name": "stderr",
     "output_type": "stream",
     "text": [
      "C:\\Users\\Thanawit C\\AppData\\Local\\Temp\\ipykernel_2528\\595247843.py:59: SettingWithCopyWarning: \n",
      "A value is trying to be set on a copy of a slice from a DataFrame\n",
      "\n",
      "See the caveats in the documentation: https://pandas.pydata.org/pandas-docs/stable/user_guide/indexing.html#returning-a-view-versus-a-copy\n",
      "  master_df.drop('_from-merged',axis=1,inplace=True)\n"
     ]
    },
    {
     "name": "stdout",
     "output_type": "stream",
     "text": [
      "Latest File has been cleaned & loaded to: D:\\Data for Stock Report\\cleaned_CJ_Stock_Report.xlsx\n"
     ]
    }
   ],
   "source": [
    "import os\n",
    "import pandas as pd\n",
    "from datetime import datetime\n",
    "\n",
    "\n",
    "# Load the CJ Master Stock File\n",
    "def get_latest_master_file(directory, file_prefix, file_extension):\n",
    "    # Match the prefix and extension\n",
    "    masterfiles = [f for f in os.listdir(directory) if f.startswith(file_prefix) and f.endswith(file_extension)]\n",
    "\n",
    "    # Extract date from filenames\n",
    "    dates = []\n",
    "    for file in masterfiles:\n",
    "        try:\n",
    "            date_str = file.replace(file_prefix, '').replace(file_extension, '').strip()\n",
    "            date_obj = datetime.strptime(date_str, '%d-%m-%Y')  # Change to '%d-%m-%Y' to match date format\n",
    "            dates.append((file, date_obj))  # Corrected to append tuple\n",
    "        except ValueError:\n",
    "            # If the filename doesn't match then skip\n",
    "            continue\n",
    "\n",
    "    # Sort files by name and return the latest file\n",
    "    if dates:\n",
    "        latest_file = max(dates, key=lambda x: x[1])[0]\n",
    "        return os.path.join(directory, latest_file)\n",
    "    else:\n",
    "        return None\n",
    "\n",
    "# Step 2.1: Clean the latest master file\n",
    "def clean_master_file(source_directory, destination_directory):\n",
    "    file_prefix = 'Sahamit Report '\n",
    "    file_extension = '.xlsx'\n",
    "    latest_file_path = get_latest_master_file(source_directory, file_prefix, file_extension)  # Step to find the latest file\n",
    "\n",
    "    if latest_file_path:\n",
    "        print(f\"Loading the latest CJ Stock File: {latest_file_path}\")\n",
    "        master_df = pd.read_excel(latest_file_path, sheet_name='Sahamit Report', header=2)\n",
    "\n",
    "        # Rename Column name = 'Product' to 'CJ_Item'\n",
    "        if 'Product' in master_df.columns:\n",
    "            master_df.rename(columns={'Product' : 'CJ_Item'},inplace=True)\n",
    "            print(\"Column 'Product' has been renamed to 'CJ_Item'\")\n",
    "        else:\n",
    "            print(\"Column 'Product' not found in the DataFrame\")\n",
    "\n",
    "        # Filter All data except A-Home and UNO in column Divsion\n",
    "        filter_master_file = ['A-HOME','UNO']\n",
    "        master_df = master_df[~master_df['Division'].isin(filter_master_file)]\n",
    "        print(f\"Filter Division >> {filter_master_file} out of master file\")\n",
    "\n",
    "        # Exclude CJ_Item that not belong to 100510 and 101317\n",
    "        exclude_cj_path = r'D:\\Data for Stock Report\\Exclude CJ_Item.xlsx'\n",
    "        exclude_df = pd.read_excel(exclude_cj_path, sheet_name='Exclude')\n",
    "        print(\"Loading product list from Company Code: 101318 and 401155 to exclude from this file\")\n",
    "\n",
    "        merged_df = master_df.merge(exclude_df,on='CJ_Item',how='left',indicator='_from-merged')\n",
    "        \n",
    "        master_df = merged_df[merged_df['_from-merged'] !='both']\n",
    "        master_df.drop('_from-merged',axis=1,inplace=True)\n",
    "\n",
    "        # Save the cleaned version\n",
    "        cleaned_file_path = os.path.join(destination_directory, 'cleaned_CJ_Stock_Report.xlsx')\n",
    "        master_df.to_excel(cleaned_file_path, sheet_name='CJ Stock', index=False)  # Save without the index column\n",
    "        print(f\"Latest File has been cleaned & loaded to: {cleaned_file_path}\")\n",
    "\n",
    "        return master_df\n",
    "    else:\n",
    "        print(\"Not Found File Stock by CJ.\")\n",
    "        return None\n",
    "\n",
    "# Main function\n",
    "def main():\n",
    "    # Define directories\n",
    "    source_directory = r'T:\\SCM Data\\Data For Stock\\DC_Store'\n",
    "    destination_directory = r'D:\\Data for Stock Report'\n",
    "\n",
    "    # Clean the latest master file and save to the destination\n",
    "    clean_master_file(source_directory, destination_directory)\n",
    "\n",
    "if __name__ == \"__main__\":\n",
    "    main()\n"
   ]
  },
  {
   "cell_type": "code",
   "execution_count": null,
   "metadata": {},
   "outputs": [],
   "source": []
  }
 ],
 "metadata": {
  "kernelspec": {
   "display_name": "Python 3",
   "language": "python",
   "name": "python3"
  },
  "language_info": {
   "codemirror_mode": {
    "name": "ipython",
    "version": 3
   },
   "file_extension": ".py",
   "mimetype": "text/x-python",
   "name": "python",
   "nbconvert_exporter": "python",
   "pygments_lexer": "ipython3",
   "version": "3.12.6"
  }
 },
 "nbformat": 4,
 "nbformat_minor": 2
}
